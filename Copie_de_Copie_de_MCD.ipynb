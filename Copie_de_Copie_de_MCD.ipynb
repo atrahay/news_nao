{
  "nbformat": 4,
  "nbformat_minor": 0,
  "metadata": {
    "colab": {
      "provenance": [],
      "include_colab_link": true
    },
    "kernelspec": {
      "name": "python3",
      "display_name": "Python 3"
    },
    "language_info": {
      "name": "python"
    }
  },
  "cells": [
    {
      "cell_type": "markdown",
      "metadata": {
        "id": "view-in-github",
        "colab_type": "text"
      },
      "source": [
        "<a href=\"https://colab.research.google.com/github/atrahay/news_nao/blob/main/Copie_de_Copie_de_MCD.ipynb\" target=\"_parent\"><img src=\"https://colab.research.google.com/assets/colab-badge.svg\" alt=\"Open In Colab\"/></a>"
      ]
    },
    {
      "cell_type": "code",
      "execution_count": 39,
      "metadata": {
        "colab": {
          "base_uri": "https://localhost:8080/",
          "height": 1000
        },
        "id": "_G4NtCIZgLXu",
        "outputId": "4d787524-160b-4704-aa23-b8f5b138662b"
      },
      "outputs": [
        {
          "output_type": "execute_result",
          "data": {
            "text/plain": [
              "                               source                author  \\\n",
              "0                       Vnexpress.net             VnExpress   \n",
              "1                           Amazon.de                  None   \n",
              "2                         Corriere.it     Guido Santevecchi   \n",
              "3                          Daily Mail            Dan Ripley   \n",
              "4                        Leganerd.com   Marco Lucio Papaleo   \n",
              "..                                ...                   ...   \n",
              "428                     Nieuwsblad.be       Erik Vandewalle   \n",
              "429                        Www.gva.be       Erik Vandewalle   \n",
              "430  Radio Free Europe/ Radio Liberty                RFE/RL   \n",
              "431  Radio Free Europe/ Radio Liberty  RFE/RL's Radio Farda   \n",
              "432                      Bloody Elbow      June M. Williams   \n",
              "\n",
              "                                                 title  \\\n",
              "0     Chân dung Thành Long làm từ 64.000 chiếc đũa tre   \n",
              "1    Boxen Wandschlagpolster, Boxen Training PU Sch...   \n",
              "2    Putin e Xi Jinping, i «gemelli diversi»: grand...   \n",
              "3    Emmanuel Adebayor's career highs and lows afte...   \n",
              "4    Tekken 8: gameplay reveal trailer per Lars Ale...   \n",
              "..                                                 ...   \n",
              "428  Shihan Marc Briels staat aan het hoofd van de ...   \n",
              "429  Shihan Marc Briels staat aan het hoofd van de ...   \n",
              "430  Germany Expels Two Iranian Diplomats Over Deat...   \n",
              "431  RFE/RL Chief Jamie Fly Among New Additions To ...   \n",
              "432  Who Sucks? Marquardt, Dana + Greedy Bread Gobb...   \n",
              "\n",
              "                                           description  \\\n",
              "0    Nghệ sĩ thị giác người Malaysia Red Hong Yi kh...   \n",
              "1    Donnerstag ab 07:39 Uhr: Boxen Wandschlagpolst...   \n",
              "2    È soprattutto il peso economico a squilibrare ...   \n",
              "3    Emmanuel Adebayor has brought down the curtain...   \n",
              "4    Prosegue la serie di reveal trailer dedicata a...   \n",
              "..                                                 ...   \n",
              "428  Marc Briels is al meer dan een halve eeuw acti...   \n",
              "429  Marc Briels is al meer dan een halve eeuw acti...   \n",
              "430  Germany on February 22 said it was expelling t...   \n",
              "431  Radio Free Europe/Radio Liberty President and ...   \n",
              "432  A compelling MMA VIDEO Podcast, with a smatter...   \n",
              "\n",
              "                                                   url  \\\n",
              "0    https://vnexpress.net/chan-dung-thanh-long-lam...   \n",
              "1    https://www.amazon.de/-/en/Boxing-Martial-Pill...   \n",
              "2    https://www.corriere.it/esteri/23_marzo_22/put...   \n",
              "3    https://www.dailymail.co.uk/sport/football/art...   \n",
              "4    https://leganerd.com/2023/03/21/tekken-8-gamep...   \n",
              "..                                                 ...   \n",
              "428  https://www.nieuwsblad.be/cnt/dmf20230222_9409...   \n",
              "429        https://www.gva.be/cnt/dmf20230222_94096341   \n",
              "430  https://www.rferl.org/a/germany-expels-iran-di...   \n",
              "431  https://www.rferl.org/a/rferl-chief-jamie-fly-...   \n",
              "432  https://www.bloodyelbow.com/2023/2/22/23609864...   \n",
              "\n",
              "                                            urlToImage           publishedAt  \\\n",
              "0    https://vcdn1-giaitri.vnecdn.net/2023/03/22/c6...  2023-03-22T10:00:00Z   \n",
              "1                                                 None  2023-03-22T08:22:37Z   \n",
              "2    https://images2.corriereobjects.it/methode_ima...  2023-03-22T06:08:17Z   \n",
              "3    https://i.dailymail.co.uk/1s/2023/03/21/12/689...  2023-03-21T21:01:14Z   \n",
              "4    https://leganerd.com/wp-content/uploads/2023/0...  2023-03-21T20:59:35Z   \n",
              "..                                                 ...                   ...   \n",
              "428  https://static.nieuwsblad.be/Assets/Images_Upl...  2023-02-22T11:12:00Z   \n",
              "429  https://static.gva.be/Assets/Images_Upload/202...  2023-02-22T11:12:00Z   \n",
              "430  https://gdb.rferl.org/c4170000-0aff-0242-56cd-...  2023-02-22T10:51:34Z   \n",
              "431  https://gdb.rferl.org/58071b9c-023e-4a57-a909-...  2023-02-22T10:21:08Z   \n",
              "432  https://cdn.vox-cdn.com/thumbor/nONDyfUtRuA21J...  2023-02-22T10:00:00Z   \n",
              "\n",
              "                                               content  \n",
              "0    Ngh s th giác ngi Malaysia Red Hong Yi khc ha ...  \n",
              "1    Wall Target Pad, Wall Target Training Pad Trai...  \n",
              "2    di Guido Santevecchi È soprattutto il peso eco...  \n",
              "3    Emmanuel Adebayor has brought down the curtain...  \n",
              "4    Prosegue la serie di reveal trailer dedicata a...  \n",
              "..                                                 ...  \n",
              "428  Het is een hele eer om gevraagd te worden, wan...  \n",
              "429  Het is een hele eer om gevraagd te worden, wan...  \n",
              "430  In late September, Pedram Azarnush was taking ...  \n",
              "431  In late September, Pedram Azarnush was taking ...  \n",
              "432  June M. Williams\\r\\n\\n \\n\\n A compelling MMA V...  \n",
              "\n",
              "[433 rows x 8 columns]"
            ],
            "text/html": [
              "\n",
              "  <div id=\"df-14b0cc30-a9c1-47da-8dbb-9e222b01c608\">\n",
              "    <div class=\"colab-df-container\">\n",
              "      <div>\n",
              "<style scoped>\n",
              "    .dataframe tbody tr th:only-of-type {\n",
              "        vertical-align: middle;\n",
              "    }\n",
              "\n",
              "    .dataframe tbody tr th {\n",
              "        vertical-align: top;\n",
              "    }\n",
              "\n",
              "    .dataframe thead th {\n",
              "        text-align: right;\n",
              "    }\n",
              "</style>\n",
              "<table border=\"1\" class=\"dataframe\">\n",
              "  <thead>\n",
              "    <tr style=\"text-align: right;\">\n",
              "      <th></th>\n",
              "      <th>source</th>\n",
              "      <th>author</th>\n",
              "      <th>title</th>\n",
              "      <th>description</th>\n",
              "      <th>url</th>\n",
              "      <th>urlToImage</th>\n",
              "      <th>publishedAt</th>\n",
              "      <th>content</th>\n",
              "    </tr>\n",
              "  </thead>\n",
              "  <tbody>\n",
              "    <tr>\n",
              "      <th>0</th>\n",
              "      <td>Vnexpress.net</td>\n",
              "      <td>VnExpress</td>\n",
              "      <td>Chân dung Thành Long làm từ 64.000 chiếc đũa tre</td>\n",
              "      <td>Nghệ sĩ thị giác người Malaysia Red Hong Yi kh...</td>\n",
              "      <td>https://vnexpress.net/chan-dung-thanh-long-lam...</td>\n",
              "      <td>https://vcdn1-giaitri.vnecdn.net/2023/03/22/c6...</td>\n",
              "      <td>2023-03-22T10:00:00Z</td>\n",
              "      <td>Ngh s th giác ngi Malaysia Red Hong Yi khc ha ...</td>\n",
              "    </tr>\n",
              "    <tr>\n",
              "      <th>1</th>\n",
              "      <td>Amazon.de</td>\n",
              "      <td>None</td>\n",
              "      <td>Boxen Wandschlagpolster, Boxen Training PU Sch...</td>\n",
              "      <td>Donnerstag ab 07:39 Uhr: Boxen Wandschlagpolst...</td>\n",
              "      <td>https://www.amazon.de/-/en/Boxing-Martial-Pill...</td>\n",
              "      <td>None</td>\n",
              "      <td>2023-03-22T08:22:37Z</td>\n",
              "      <td>Wall Target Pad, Wall Target Training Pad Trai...</td>\n",
              "    </tr>\n",
              "    <tr>\n",
              "      <th>2</th>\n",
              "      <td>Corriere.it</td>\n",
              "      <td>Guido Santevecchi</td>\n",
              "      <td>Putin e Xi Jinping, i «gemelli diversi»: grand...</td>\n",
              "      <td>È soprattutto il peso economico a squilibrare ...</td>\n",
              "      <td>https://www.corriere.it/esteri/23_marzo_22/put...</td>\n",
              "      <td>https://images2.corriereobjects.it/methode_ima...</td>\n",
              "      <td>2023-03-22T06:08:17Z</td>\n",
              "      <td>di Guido Santevecchi È soprattutto il peso eco...</td>\n",
              "    </tr>\n",
              "    <tr>\n",
              "      <th>3</th>\n",
              "      <td>Daily Mail</td>\n",
              "      <td>Dan Ripley</td>\n",
              "      <td>Emmanuel Adebayor's career highs and lows afte...</td>\n",
              "      <td>Emmanuel Adebayor has brought down the curtain...</td>\n",
              "      <td>https://www.dailymail.co.uk/sport/football/art...</td>\n",
              "      <td>https://i.dailymail.co.uk/1s/2023/03/21/12/689...</td>\n",
              "      <td>2023-03-21T21:01:14Z</td>\n",
              "      <td>Emmanuel Adebayor has brought down the curtain...</td>\n",
              "    </tr>\n",
              "    <tr>\n",
              "      <th>4</th>\n",
              "      <td>Leganerd.com</td>\n",
              "      <td>Marco Lucio Papaleo</td>\n",
              "      <td>Tekken 8: gameplay reveal trailer per Lars Ale...</td>\n",
              "      <td>Prosegue la serie di reveal trailer dedicata a...</td>\n",
              "      <td>https://leganerd.com/2023/03/21/tekken-8-gamep...</td>\n",
              "      <td>https://leganerd.com/wp-content/uploads/2023/0...</td>\n",
              "      <td>2023-03-21T20:59:35Z</td>\n",
              "      <td>Prosegue la serie di reveal trailer dedicata a...</td>\n",
              "    </tr>\n",
              "    <tr>\n",
              "      <th>...</th>\n",
              "      <td>...</td>\n",
              "      <td>...</td>\n",
              "      <td>...</td>\n",
              "      <td>...</td>\n",
              "      <td>...</td>\n",
              "      <td>...</td>\n",
              "      <td>...</td>\n",
              "      <td>...</td>\n",
              "    </tr>\n",
              "    <tr>\n",
              "      <th>428</th>\n",
              "      <td>Nieuwsblad.be</td>\n",
              "      <td>Erik Vandewalle</td>\n",
              "      <td>Shihan Marc Briels staat aan het hoofd van de ...</td>\n",
              "      <td>Marc Briels is al meer dan een halve eeuw acti...</td>\n",
              "      <td>https://www.nieuwsblad.be/cnt/dmf20230222_9409...</td>\n",
              "      <td>https://static.nieuwsblad.be/Assets/Images_Upl...</td>\n",
              "      <td>2023-02-22T11:12:00Z</td>\n",
              "      <td>Het is een hele eer om gevraagd te worden, wan...</td>\n",
              "    </tr>\n",
              "    <tr>\n",
              "      <th>429</th>\n",
              "      <td>Www.gva.be</td>\n",
              "      <td>Erik Vandewalle</td>\n",
              "      <td>Shihan Marc Briels staat aan het hoofd van de ...</td>\n",
              "      <td>Marc Briels is al meer dan een halve eeuw acti...</td>\n",
              "      <td>https://www.gva.be/cnt/dmf20230222_94096341</td>\n",
              "      <td>https://static.gva.be/Assets/Images_Upload/202...</td>\n",
              "      <td>2023-02-22T11:12:00Z</td>\n",
              "      <td>Het is een hele eer om gevraagd te worden, wan...</td>\n",
              "    </tr>\n",
              "    <tr>\n",
              "      <th>430</th>\n",
              "      <td>Radio Free Europe/ Radio Liberty</td>\n",
              "      <td>RFE/RL</td>\n",
              "      <td>Germany Expels Two Iranian Diplomats Over Deat...</td>\n",
              "      <td>Germany on February 22 said it was expelling t...</td>\n",
              "      <td>https://www.rferl.org/a/germany-expels-iran-di...</td>\n",
              "      <td>https://gdb.rferl.org/c4170000-0aff-0242-56cd-...</td>\n",
              "      <td>2023-02-22T10:51:34Z</td>\n",
              "      <td>In late September, Pedram Azarnush was taking ...</td>\n",
              "    </tr>\n",
              "    <tr>\n",
              "      <th>431</th>\n",
              "      <td>Radio Free Europe/ Radio Liberty</td>\n",
              "      <td>RFE/RL's Radio Farda</td>\n",
              "      <td>RFE/RL Chief Jamie Fly Among New Additions To ...</td>\n",
              "      <td>Radio Free Europe/Radio Liberty President and ...</td>\n",
              "      <td>https://www.rferl.org/a/rferl-chief-jamie-fly-...</td>\n",
              "      <td>https://gdb.rferl.org/58071b9c-023e-4a57-a909-...</td>\n",
              "      <td>2023-02-22T10:21:08Z</td>\n",
              "      <td>In late September, Pedram Azarnush was taking ...</td>\n",
              "    </tr>\n",
              "    <tr>\n",
              "      <th>432</th>\n",
              "      <td>Bloody Elbow</td>\n",
              "      <td>June M. Williams</td>\n",
              "      <td>Who Sucks? Marquardt, Dana + Greedy Bread Gobb...</td>\n",
              "      <td>A compelling MMA VIDEO Podcast, with a smatter...</td>\n",
              "      <td>https://www.bloodyelbow.com/2023/2/22/23609864...</td>\n",
              "      <td>https://cdn.vox-cdn.com/thumbor/nONDyfUtRuA21J...</td>\n",
              "      <td>2023-02-22T10:00:00Z</td>\n",
              "      <td>June M. Williams\\r\\n\\n \\n\\n A compelling MMA V...</td>\n",
              "    </tr>\n",
              "  </tbody>\n",
              "</table>\n",
              "<p>433 rows × 8 columns</p>\n",
              "</div>\n",
              "      <button class=\"colab-df-convert\" onclick=\"convertToInteractive('df-14b0cc30-a9c1-47da-8dbb-9e222b01c608')\"\n",
              "              title=\"Convert this dataframe to an interactive table.\"\n",
              "              style=\"display:none;\">\n",
              "        \n",
              "  <svg xmlns=\"http://www.w3.org/2000/svg\" height=\"24px\"viewBox=\"0 0 24 24\"\n",
              "       width=\"24px\">\n",
              "    <path d=\"M0 0h24v24H0V0z\" fill=\"none\"/>\n",
              "    <path d=\"M18.56 5.44l.94 2.06.94-2.06 2.06-.94-2.06-.94-.94-2.06-.94 2.06-2.06.94zm-11 1L8.5 8.5l.94-2.06 2.06-.94-2.06-.94L8.5 2.5l-.94 2.06-2.06.94zm10 10l.94 2.06.94-2.06 2.06-.94-2.06-.94-.94-2.06-.94 2.06-2.06.94z\"/><path d=\"M17.41 7.96l-1.37-1.37c-.4-.4-.92-.59-1.43-.59-.52 0-1.04.2-1.43.59L10.3 9.45l-7.72 7.72c-.78.78-.78 2.05 0 2.83L4 21.41c.39.39.9.59 1.41.59.51 0 1.02-.2 1.41-.59l7.78-7.78 2.81-2.81c.8-.78.8-2.07 0-2.86zM5.41 20L4 18.59l7.72-7.72 1.47 1.35L5.41 20z\"/>\n",
              "  </svg>\n",
              "      </button>\n",
              "      \n",
              "  <style>\n",
              "    .colab-df-container {\n",
              "      display:flex;\n",
              "      flex-wrap:wrap;\n",
              "      gap: 12px;\n",
              "    }\n",
              "\n",
              "    .colab-df-convert {\n",
              "      background-color: #E8F0FE;\n",
              "      border: none;\n",
              "      border-radius: 50%;\n",
              "      cursor: pointer;\n",
              "      display: none;\n",
              "      fill: #1967D2;\n",
              "      height: 32px;\n",
              "      padding: 0 0 0 0;\n",
              "      width: 32px;\n",
              "    }\n",
              "\n",
              "    .colab-df-convert:hover {\n",
              "      background-color: #E2EBFA;\n",
              "      box-shadow: 0px 1px 2px rgba(60, 64, 67, 0.3), 0px 1px 3px 1px rgba(60, 64, 67, 0.15);\n",
              "      fill: #174EA6;\n",
              "    }\n",
              "\n",
              "    [theme=dark] .colab-df-convert {\n",
              "      background-color: #3B4455;\n",
              "      fill: #D2E3FC;\n",
              "    }\n",
              "\n",
              "    [theme=dark] .colab-df-convert:hover {\n",
              "      background-color: #434B5C;\n",
              "      box-shadow: 0px 1px 3px 1px rgba(0, 0, 0, 0.15);\n",
              "      filter: drop-shadow(0px 1px 2px rgba(0, 0, 0, 0.3));\n",
              "      fill: #FFFFFF;\n",
              "    }\n",
              "  </style>\n",
              "\n",
              "      <script>\n",
              "        const buttonEl =\n",
              "          document.querySelector('#df-14b0cc30-a9c1-47da-8dbb-9e222b01c608 button.colab-df-convert');\n",
              "        buttonEl.style.display =\n",
              "          google.colab.kernel.accessAllowed ? 'block' : 'none';\n",
              "\n",
              "        async function convertToInteractive(key) {\n",
              "          const element = document.querySelector('#df-14b0cc30-a9c1-47da-8dbb-9e222b01c608');\n",
              "          const dataTable =\n",
              "            await google.colab.kernel.invokeFunction('convertToInteractive',\n",
              "                                                     [key], {});\n",
              "          if (!dataTable) return;\n",
              "\n",
              "          const docLinkHtml = 'Like what you see? Visit the ' +\n",
              "            '<a target=\"_blank\" href=https://colab.research.google.com/notebooks/data_table.ipynb>data table notebook</a>'\n",
              "            + ' to learn more about interactive tables.';\n",
              "          element.innerHTML = '';\n",
              "          dataTable['output_type'] = 'display_data';\n",
              "          await google.colab.output.renderOutput(dataTable, element);\n",
              "          const docLink = document.createElement('div');\n",
              "          docLink.innerHTML = docLinkHtml;\n",
              "          element.appendChild(docLink);\n",
              "        }\n",
              "      </script>\n",
              "    </div>\n",
              "  </div>\n",
              "  "
            ]
          },
          "metadata": {},
          "execution_count": 39
        }
      ],
      "source": [
        "import requests\n",
        "import math\n",
        "import pandas as pd\n",
        "\n",
        "df = pd.DataFrame(columns=['source', 'author', 'title', 'description', 'url', 'urlToImage', 'publishedAt', 'content'])\n",
        "df\n",
        "API_KEY = \"258275c0180041fb82b5f9d574799473\"\n",
        "url = f\"https://newsapi.org/v2/everything?q=karate&sortBy=publishedAt&apiKey={API_KEY}\"\n",
        "\n",
        "response = requests.get(url)\n",
        "if response.status_code == 200:\n",
        "    data = response.json()\n",
        "    nb_pages = math.ceil(data[\"totalResults\"] / 100) # pagination\n",
        "else:\n",
        "    print('Error:', response.status_code)\n",
        "for counter in range(1, nb_pages + 1):\n",
        "  url = f\"https://newsapi.org/v2/everything?q=karate&sortBy=publishedAt&page={counter}&apiKey={API_KEY}\"\n",
        "  response = requests.get(url)\n",
        "  if response.status_code == 200:\n",
        "      data = response.json()\n",
        "  else:\n",
        "      print('Error:', response.status_code)\n",
        "  for count in range(100):\n",
        "    if count < len(data[\"articles\"]):\n",
        "      my_dict = data[\"articles\"][count]\n",
        "      my_list = [my_dict['source']['name'], my_dict['author'], my_dict['title'], my_dict['description'], my_dict['url'], my_dict['urlToImage'], my_dict['publishedAt'], my_dict['content']]\n",
        "      df.loc[count + (counter - 1) * 100]= my_list\n",
        "      \n",
        "df\n"
      ]
    },
    {
      "cell_type": "code",
      "source": [
        "\"\"\"\n",
        "\n",
        "from datetime import date, timedelta\n",
        "today = date.today() # today\n",
        "day = timedelta(days=1) # 1 day duration\n",
        "\n",
        "for counter in range(30):\n",
        "  temp_date = today - counter*day\n",
        "  date = f\"{temp_date.year}-{temp_date.month}-{temp_date.day}\"\n",
        "  nwe_date = f\"https://newsapi.org/v2/everything?q=karate&from={date}&sortBy=publishedAt&apiKey={API_KEY}\"\n",
        "  print(f\"https://newsapi.org/v2/everything?q=karate&from={date}&sortBy=publishedAt&apiKey={API_KEY}\")\n",
        "\n",
        "nwe_date\n",
        "\n",
        "\"\"\""
      ],
      "metadata": {
        "colab": {
          "base_uri": "https://localhost:8080/",
          "height": 89
        },
        "id": "SQldGL-JjVYr",
        "outputId": "600b0ccf-5dd3-4974-8053-bcbd2d945309"
      },
      "execution_count": 40,
      "outputs": [
        {
          "output_type": "execute_result",
          "data": {
            "text/plain": [
              "'\\n\\nfrom datetime import date, timedelta\\ntoday = date.today() # today\\nday = timedelta(days=1) # 1 day duration\\n\\nfor counter in range(30):\\n  temp_date = today - counter*day\\n  date = f\"{temp_date.year}-{temp_date.month}-{temp_date.day}\"\\n  nwe_date = f\"https://newsapi.org/v2/everything?q=karate&from={date}&sortBy=publishedAt&apiKey={API_KEY}\"\\n  print(f\"https://newsapi.org/v2/everything?q=karate&from={date}&sortBy=publishedAt&apiKey={API_KEY}\")\\n\\nnwe_date\\n\\n'"
            ],
            "application/vnd.google.colaboratory.intrinsic+json": {
              "type": "string"
            }
          },
          "metadata": {},
          "execution_count": 40
        }
      ]
    },
    {
      "cell_type": "code",
      "source": [
        "df['url']"
      ],
      "metadata": {
        "id": "GMu2OvPfjizr",
        "outputId": "6335af0e-66fe-40f2-d43c-361adb910049",
        "colab": {
          "base_uri": "https://localhost:8080/"
        }
      },
      "execution_count": 41,
      "outputs": [
        {
          "output_type": "execute_result",
          "data": {
            "text/plain": [
              "0      https://vnexpress.net/chan-dung-thanh-long-lam...\n",
              "1      https://www.amazon.de/-/en/Boxing-Martial-Pill...\n",
              "2      https://www.corriere.it/esteri/23_marzo_22/put...\n",
              "3      https://www.dailymail.co.uk/sport/football/art...\n",
              "4      https://leganerd.com/2023/03/21/tekken-8-gamep...\n",
              "                             ...                        \n",
              "428    https://www.nieuwsblad.be/cnt/dmf20230222_9409...\n",
              "429          https://www.gva.be/cnt/dmf20230222_94096341\n",
              "430    https://www.rferl.org/a/germany-expels-iran-di...\n",
              "431    https://www.rferl.org/a/rferl-chief-jamie-fly-...\n",
              "432    https://www.bloodyelbow.com/2023/2/22/23609864...\n",
              "Name: url, Length: 433, dtype: object"
            ]
          },
          "metadata": {},
          "execution_count": 41
        }
      ]
    },
    {
      "cell_type": "code",
      "source": [
        "# clean content\n",
        "\n",
        "for _ , row in df.iterrows():\n",
        "  row['content'] = \" \".join(row['content'].split(\" \")[:-3])\n",
        "\n",
        "df['content'][10]"
      ],
      "metadata": {
        "id": "_SpD6Mdhj94x",
        "outputId": "9264c365-af39-45dc-9f18-8af82b502913",
        "colab": {
          "base_uri": "https://localhost:8080/",
          "height": 53
        }
      },
      "execution_count": 42,
      "outputs": [
        {
          "output_type": "execute_result",
          "data": {
            "text/plain": [
              "'Rick Ross wants to learn martial arts so he can “smack the shit” out of a black belt at any given moment.\\r\\nOn Monday (March 20), Rozay, armed with a blunt and low eyelids, went on his Instagram'"
            ],
            "application/vnd.google.colaboratory.intrinsic+json": {
              "type": "string"
            }
          },
          "metadata": {},
          "execution_count": 42
        }
      ]
    },
    {
      "cell_type": "code",
      "source": [
        "df.columns"
      ],
      "metadata": {
        "id": "UwrgJimtowGl",
        "outputId": "fa40ab97-f073-4cb4-fcff-b77324ba4ebc",
        "colab": {
          "base_uri": "https://localhost:8080/"
        }
      },
      "execution_count": 43,
      "outputs": [
        {
          "output_type": "execute_result",
          "data": {
            "text/plain": [
              "Index(['source', 'author', 'title', 'description', 'url', 'urlToImage',\n",
              "       'publishedAt', 'content'],\n",
              "      dtype='object')"
            ]
          },
          "metadata": {},
          "execution_count": 43
        }
      ]
    },
    {
      "cell_type": "code",
      "source": [
        "# merge columns with text\n",
        "\n",
        "df['merge_text'] = df[[\"content\", \"title\", \"description\"]].apply(\n",
        "    lambda x: ','.join(x.dropna().astype(str)),\n",
        "    axis=1\n",
        ")\n",
        "\n",
        "df"
      ],
      "metadata": {
        "id": "xQBxvHkTniC1",
        "outputId": "a1e74d65-8798-4f0b-b268-c230304693c4",
        "colab": {
          "base_uri": "https://localhost:8080/",
          "height": 1000
        }
      },
      "execution_count": 44,
      "outputs": [
        {
          "output_type": "execute_result",
          "data": {
            "text/plain": [
              "                               source                author  \\\n",
              "0                       Vnexpress.net             VnExpress   \n",
              "1                           Amazon.de                  None   \n",
              "2                         Corriere.it     Guido Santevecchi   \n",
              "3                          Daily Mail            Dan Ripley   \n",
              "4                        Leganerd.com   Marco Lucio Papaleo   \n",
              "..                                ...                   ...   \n",
              "428                     Nieuwsblad.be       Erik Vandewalle   \n",
              "429                        Www.gva.be       Erik Vandewalle   \n",
              "430  Radio Free Europe/ Radio Liberty                RFE/RL   \n",
              "431  Radio Free Europe/ Radio Liberty  RFE/RL's Radio Farda   \n",
              "432                      Bloody Elbow      June M. Williams   \n",
              "\n",
              "                                                 title  \\\n",
              "0     Chân dung Thành Long làm từ 64.000 chiếc đũa tre   \n",
              "1    Boxen Wandschlagpolster, Boxen Training PU Sch...   \n",
              "2    Putin e Xi Jinping, i «gemelli diversi»: grand...   \n",
              "3    Emmanuel Adebayor's career highs and lows afte...   \n",
              "4    Tekken 8: gameplay reveal trailer per Lars Ale...   \n",
              "..                                                 ...   \n",
              "428  Shihan Marc Briels staat aan het hoofd van de ...   \n",
              "429  Shihan Marc Briels staat aan het hoofd van de ...   \n",
              "430  Germany Expels Two Iranian Diplomats Over Deat...   \n",
              "431  RFE/RL Chief Jamie Fly Among New Additions To ...   \n",
              "432  Who Sucks? Marquardt, Dana + Greedy Bread Gobb...   \n",
              "\n",
              "                                           description  \\\n",
              "0    Nghệ sĩ thị giác người Malaysia Red Hong Yi kh...   \n",
              "1    Donnerstag ab 07:39 Uhr: Boxen Wandschlagpolst...   \n",
              "2    È soprattutto il peso economico a squilibrare ...   \n",
              "3    Emmanuel Adebayor has brought down the curtain...   \n",
              "4    Prosegue la serie di reveal trailer dedicata a...   \n",
              "..                                                 ...   \n",
              "428  Marc Briels is al meer dan een halve eeuw acti...   \n",
              "429  Marc Briels is al meer dan een halve eeuw acti...   \n",
              "430  Germany on February 22 said it was expelling t...   \n",
              "431  Radio Free Europe/Radio Liberty President and ...   \n",
              "432  A compelling MMA VIDEO Podcast, with a smatter...   \n",
              "\n",
              "                                                   url  \\\n",
              "0    https://vnexpress.net/chan-dung-thanh-long-lam...   \n",
              "1    https://www.amazon.de/-/en/Boxing-Martial-Pill...   \n",
              "2    https://www.corriere.it/esteri/23_marzo_22/put...   \n",
              "3    https://www.dailymail.co.uk/sport/football/art...   \n",
              "4    https://leganerd.com/2023/03/21/tekken-8-gamep...   \n",
              "..                                                 ...   \n",
              "428  https://www.nieuwsblad.be/cnt/dmf20230222_9409...   \n",
              "429        https://www.gva.be/cnt/dmf20230222_94096341   \n",
              "430  https://www.rferl.org/a/germany-expels-iran-di...   \n",
              "431  https://www.rferl.org/a/rferl-chief-jamie-fly-...   \n",
              "432  https://www.bloodyelbow.com/2023/2/22/23609864...   \n",
              "\n",
              "                                            urlToImage           publishedAt  \\\n",
              "0    https://vcdn1-giaitri.vnecdn.net/2023/03/22/c6...  2023-03-22T10:00:00Z   \n",
              "1                                                 None  2023-03-22T08:22:37Z   \n",
              "2    https://images2.corriereobjects.it/methode_ima...  2023-03-22T06:08:17Z   \n",
              "3    https://i.dailymail.co.uk/1s/2023/03/21/12/689...  2023-03-21T21:01:14Z   \n",
              "4    https://leganerd.com/wp-content/uploads/2023/0...  2023-03-21T20:59:35Z   \n",
              "..                                                 ...                   ...   \n",
              "428  https://static.nieuwsblad.be/Assets/Images_Upl...  2023-02-22T11:12:00Z   \n",
              "429  https://static.gva.be/Assets/Images_Upload/202...  2023-02-22T11:12:00Z   \n",
              "430  https://gdb.rferl.org/c4170000-0aff-0242-56cd-...  2023-02-22T10:51:34Z   \n",
              "431  https://gdb.rferl.org/58071b9c-023e-4a57-a909-...  2023-02-22T10:21:08Z   \n",
              "432  https://cdn.vox-cdn.com/thumbor/nONDyfUtRuA21J...  2023-02-22T10:00:00Z   \n",
              "\n",
              "                                               content  \\\n",
              "0    Ngh s th giác ngi Malaysia Red Hong Yi khc ha ...   \n",
              "1    Wall Target Pad, Wall Target Training Pad Trai...   \n",
              "2    di Guido Santevecchi È soprattutto il peso eco...   \n",
              "3    Emmanuel Adebayor has brought down the curtain...   \n",
              "4    Prosegue la serie di reveal trailer dedicata a...   \n",
              "..                                                 ...   \n",
              "428  Het is een hele eer om gevraagd te worden, wan...   \n",
              "429  Het is een hele eer om gevraagd te worden, wan...   \n",
              "430  In late September, Pedram Azarnush was taking ...   \n",
              "431  In late September, Pedram Azarnush was taking ...   \n",
              "432  June M. Williams\\r\\n\\n \\n\\n A compelling MMA V...   \n",
              "\n",
              "                                            merge_text  \n",
              "0    Ngh s th giác ngi Malaysia Red Hong Yi khc ha ...  \n",
              "1    Wall Target Pad, Wall Target Training Pad Trai...  \n",
              "2    di Guido Santevecchi È soprattutto il peso eco...  \n",
              "3    Emmanuel Adebayor has brought down the curtain...  \n",
              "4    Prosegue la serie di reveal trailer dedicata a...  \n",
              "..                                                 ...  \n",
              "428  Het is een hele eer om gevraagd te worden, wan...  \n",
              "429  Het is een hele eer om gevraagd te worden, wan...  \n",
              "430  In late September, Pedram Azarnush was taking ...  \n",
              "431  In late September, Pedram Azarnush was taking ...  \n",
              "432  June M. Williams\\r\\n\\n \\n\\n A compelling MMA V...  \n",
              "\n",
              "[433 rows x 9 columns]"
            ],
            "text/html": [
              "\n",
              "  <div id=\"df-d06dafed-87f6-4eac-b49e-268656cee981\">\n",
              "    <div class=\"colab-df-container\">\n",
              "      <div>\n",
              "<style scoped>\n",
              "    .dataframe tbody tr th:only-of-type {\n",
              "        vertical-align: middle;\n",
              "    }\n",
              "\n",
              "    .dataframe tbody tr th {\n",
              "        vertical-align: top;\n",
              "    }\n",
              "\n",
              "    .dataframe thead th {\n",
              "        text-align: right;\n",
              "    }\n",
              "</style>\n",
              "<table border=\"1\" class=\"dataframe\">\n",
              "  <thead>\n",
              "    <tr style=\"text-align: right;\">\n",
              "      <th></th>\n",
              "      <th>source</th>\n",
              "      <th>author</th>\n",
              "      <th>title</th>\n",
              "      <th>description</th>\n",
              "      <th>url</th>\n",
              "      <th>urlToImage</th>\n",
              "      <th>publishedAt</th>\n",
              "      <th>content</th>\n",
              "      <th>merge_text</th>\n",
              "    </tr>\n",
              "  </thead>\n",
              "  <tbody>\n",
              "    <tr>\n",
              "      <th>0</th>\n",
              "      <td>Vnexpress.net</td>\n",
              "      <td>VnExpress</td>\n",
              "      <td>Chân dung Thành Long làm từ 64.000 chiếc đũa tre</td>\n",
              "      <td>Nghệ sĩ thị giác người Malaysia Red Hong Yi kh...</td>\n",
              "      <td>https://vnexpress.net/chan-dung-thanh-long-lam...</td>\n",
              "      <td>https://vcdn1-giaitri.vnecdn.net/2023/03/22/c6...</td>\n",
              "      <td>2023-03-22T10:00:00Z</td>\n",
              "      <td>Ngh s th giác ngi Malaysia Red Hong Yi khc ha ...</td>\n",
              "      <td>Ngh s th giác ngi Malaysia Red Hong Yi khc ha ...</td>\n",
              "    </tr>\n",
              "    <tr>\n",
              "      <th>1</th>\n",
              "      <td>Amazon.de</td>\n",
              "      <td>None</td>\n",
              "      <td>Boxen Wandschlagpolster, Boxen Training PU Sch...</td>\n",
              "      <td>Donnerstag ab 07:39 Uhr: Boxen Wandschlagpolst...</td>\n",
              "      <td>https://www.amazon.de/-/en/Boxing-Martial-Pill...</td>\n",
              "      <td>None</td>\n",
              "      <td>2023-03-22T08:22:37Z</td>\n",
              "      <td>Wall Target Pad, Wall Target Training Pad Trai...</td>\n",
              "      <td>Wall Target Pad, Wall Target Training Pad Trai...</td>\n",
              "    </tr>\n",
              "    <tr>\n",
              "      <th>2</th>\n",
              "      <td>Corriere.it</td>\n",
              "      <td>Guido Santevecchi</td>\n",
              "      <td>Putin e Xi Jinping, i «gemelli diversi»: grand...</td>\n",
              "      <td>È soprattutto il peso economico a squilibrare ...</td>\n",
              "      <td>https://www.corriere.it/esteri/23_marzo_22/put...</td>\n",
              "      <td>https://images2.corriereobjects.it/methode_ima...</td>\n",
              "      <td>2023-03-22T06:08:17Z</td>\n",
              "      <td>di Guido Santevecchi È soprattutto il peso eco...</td>\n",
              "      <td>di Guido Santevecchi È soprattutto il peso eco...</td>\n",
              "    </tr>\n",
              "    <tr>\n",
              "      <th>3</th>\n",
              "      <td>Daily Mail</td>\n",
              "      <td>Dan Ripley</td>\n",
              "      <td>Emmanuel Adebayor's career highs and lows afte...</td>\n",
              "      <td>Emmanuel Adebayor has brought down the curtain...</td>\n",
              "      <td>https://www.dailymail.co.uk/sport/football/art...</td>\n",
              "      <td>https://i.dailymail.co.uk/1s/2023/03/21/12/689...</td>\n",
              "      <td>2023-03-21T21:01:14Z</td>\n",
              "      <td>Emmanuel Adebayor has brought down the curtain...</td>\n",
              "      <td>Emmanuel Adebayor has brought down the curtain...</td>\n",
              "    </tr>\n",
              "    <tr>\n",
              "      <th>4</th>\n",
              "      <td>Leganerd.com</td>\n",
              "      <td>Marco Lucio Papaleo</td>\n",
              "      <td>Tekken 8: gameplay reveal trailer per Lars Ale...</td>\n",
              "      <td>Prosegue la serie di reveal trailer dedicata a...</td>\n",
              "      <td>https://leganerd.com/2023/03/21/tekken-8-gamep...</td>\n",
              "      <td>https://leganerd.com/wp-content/uploads/2023/0...</td>\n",
              "      <td>2023-03-21T20:59:35Z</td>\n",
              "      <td>Prosegue la serie di reveal trailer dedicata a...</td>\n",
              "      <td>Prosegue la serie di reveal trailer dedicata a...</td>\n",
              "    </tr>\n",
              "    <tr>\n",
              "      <th>...</th>\n",
              "      <td>...</td>\n",
              "      <td>...</td>\n",
              "      <td>...</td>\n",
              "      <td>...</td>\n",
              "      <td>...</td>\n",
              "      <td>...</td>\n",
              "      <td>...</td>\n",
              "      <td>...</td>\n",
              "      <td>...</td>\n",
              "    </tr>\n",
              "    <tr>\n",
              "      <th>428</th>\n",
              "      <td>Nieuwsblad.be</td>\n",
              "      <td>Erik Vandewalle</td>\n",
              "      <td>Shihan Marc Briels staat aan het hoofd van de ...</td>\n",
              "      <td>Marc Briels is al meer dan een halve eeuw acti...</td>\n",
              "      <td>https://www.nieuwsblad.be/cnt/dmf20230222_9409...</td>\n",
              "      <td>https://static.nieuwsblad.be/Assets/Images_Upl...</td>\n",
              "      <td>2023-02-22T11:12:00Z</td>\n",
              "      <td>Het is een hele eer om gevraagd te worden, wan...</td>\n",
              "      <td>Het is een hele eer om gevraagd te worden, wan...</td>\n",
              "    </tr>\n",
              "    <tr>\n",
              "      <th>429</th>\n",
              "      <td>Www.gva.be</td>\n",
              "      <td>Erik Vandewalle</td>\n",
              "      <td>Shihan Marc Briels staat aan het hoofd van de ...</td>\n",
              "      <td>Marc Briels is al meer dan een halve eeuw acti...</td>\n",
              "      <td>https://www.gva.be/cnt/dmf20230222_94096341</td>\n",
              "      <td>https://static.gva.be/Assets/Images_Upload/202...</td>\n",
              "      <td>2023-02-22T11:12:00Z</td>\n",
              "      <td>Het is een hele eer om gevraagd te worden, wan...</td>\n",
              "      <td>Het is een hele eer om gevraagd te worden, wan...</td>\n",
              "    </tr>\n",
              "    <tr>\n",
              "      <th>430</th>\n",
              "      <td>Radio Free Europe/ Radio Liberty</td>\n",
              "      <td>RFE/RL</td>\n",
              "      <td>Germany Expels Two Iranian Diplomats Over Deat...</td>\n",
              "      <td>Germany on February 22 said it was expelling t...</td>\n",
              "      <td>https://www.rferl.org/a/germany-expels-iran-di...</td>\n",
              "      <td>https://gdb.rferl.org/c4170000-0aff-0242-56cd-...</td>\n",
              "      <td>2023-02-22T10:51:34Z</td>\n",
              "      <td>In late September, Pedram Azarnush was taking ...</td>\n",
              "      <td>In late September, Pedram Azarnush was taking ...</td>\n",
              "    </tr>\n",
              "    <tr>\n",
              "      <th>431</th>\n",
              "      <td>Radio Free Europe/ Radio Liberty</td>\n",
              "      <td>RFE/RL's Radio Farda</td>\n",
              "      <td>RFE/RL Chief Jamie Fly Among New Additions To ...</td>\n",
              "      <td>Radio Free Europe/Radio Liberty President and ...</td>\n",
              "      <td>https://www.rferl.org/a/rferl-chief-jamie-fly-...</td>\n",
              "      <td>https://gdb.rferl.org/58071b9c-023e-4a57-a909-...</td>\n",
              "      <td>2023-02-22T10:21:08Z</td>\n",
              "      <td>In late September, Pedram Azarnush was taking ...</td>\n",
              "      <td>In late September, Pedram Azarnush was taking ...</td>\n",
              "    </tr>\n",
              "    <tr>\n",
              "      <th>432</th>\n",
              "      <td>Bloody Elbow</td>\n",
              "      <td>June M. Williams</td>\n",
              "      <td>Who Sucks? Marquardt, Dana + Greedy Bread Gobb...</td>\n",
              "      <td>A compelling MMA VIDEO Podcast, with a smatter...</td>\n",
              "      <td>https://www.bloodyelbow.com/2023/2/22/23609864...</td>\n",
              "      <td>https://cdn.vox-cdn.com/thumbor/nONDyfUtRuA21J...</td>\n",
              "      <td>2023-02-22T10:00:00Z</td>\n",
              "      <td>June M. Williams\\r\\n\\n \\n\\n A compelling MMA V...</td>\n",
              "      <td>June M. Williams\\r\\n\\n \\n\\n A compelling MMA V...</td>\n",
              "    </tr>\n",
              "  </tbody>\n",
              "</table>\n",
              "<p>433 rows × 9 columns</p>\n",
              "</div>\n",
              "      <button class=\"colab-df-convert\" onclick=\"convertToInteractive('df-d06dafed-87f6-4eac-b49e-268656cee981')\"\n",
              "              title=\"Convert this dataframe to an interactive table.\"\n",
              "              style=\"display:none;\">\n",
              "        \n",
              "  <svg xmlns=\"http://www.w3.org/2000/svg\" height=\"24px\"viewBox=\"0 0 24 24\"\n",
              "       width=\"24px\">\n",
              "    <path d=\"M0 0h24v24H0V0z\" fill=\"none\"/>\n",
              "    <path d=\"M18.56 5.44l.94 2.06.94-2.06 2.06-.94-2.06-.94-.94-2.06-.94 2.06-2.06.94zm-11 1L8.5 8.5l.94-2.06 2.06-.94-2.06-.94L8.5 2.5l-.94 2.06-2.06.94zm10 10l.94 2.06.94-2.06 2.06-.94-2.06-.94-.94-2.06-.94 2.06-2.06.94z\"/><path d=\"M17.41 7.96l-1.37-1.37c-.4-.4-.92-.59-1.43-.59-.52 0-1.04.2-1.43.59L10.3 9.45l-7.72 7.72c-.78.78-.78 2.05 0 2.83L4 21.41c.39.39.9.59 1.41.59.51 0 1.02-.2 1.41-.59l7.78-7.78 2.81-2.81c.8-.78.8-2.07 0-2.86zM5.41 20L4 18.59l7.72-7.72 1.47 1.35L5.41 20z\"/>\n",
              "  </svg>\n",
              "      </button>\n",
              "      \n",
              "  <style>\n",
              "    .colab-df-container {\n",
              "      display:flex;\n",
              "      flex-wrap:wrap;\n",
              "      gap: 12px;\n",
              "    }\n",
              "\n",
              "    .colab-df-convert {\n",
              "      background-color: #E8F0FE;\n",
              "      border: none;\n",
              "      border-radius: 50%;\n",
              "      cursor: pointer;\n",
              "      display: none;\n",
              "      fill: #1967D2;\n",
              "      height: 32px;\n",
              "      padding: 0 0 0 0;\n",
              "      width: 32px;\n",
              "    }\n",
              "\n",
              "    .colab-df-convert:hover {\n",
              "      background-color: #E2EBFA;\n",
              "      box-shadow: 0px 1px 2px rgba(60, 64, 67, 0.3), 0px 1px 3px 1px rgba(60, 64, 67, 0.15);\n",
              "      fill: #174EA6;\n",
              "    }\n",
              "\n",
              "    [theme=dark] .colab-df-convert {\n",
              "      background-color: #3B4455;\n",
              "      fill: #D2E3FC;\n",
              "    }\n",
              "\n",
              "    [theme=dark] .colab-df-convert:hover {\n",
              "      background-color: #434B5C;\n",
              "      box-shadow: 0px 1px 3px 1px rgba(0, 0, 0, 0.15);\n",
              "      filter: drop-shadow(0px 1px 2px rgba(0, 0, 0, 0.3));\n",
              "      fill: #FFFFFF;\n",
              "    }\n",
              "  </style>\n",
              "\n",
              "      <script>\n",
              "        const buttonEl =\n",
              "          document.querySelector('#df-d06dafed-87f6-4eac-b49e-268656cee981 button.colab-df-convert');\n",
              "        buttonEl.style.display =\n",
              "          google.colab.kernel.accessAllowed ? 'block' : 'none';\n",
              "\n",
              "        async function convertToInteractive(key) {\n",
              "          const element = document.querySelector('#df-d06dafed-87f6-4eac-b49e-268656cee981');\n",
              "          const dataTable =\n",
              "            await google.colab.kernel.invokeFunction('convertToInteractive',\n",
              "                                                     [key], {});\n",
              "          if (!dataTable) return;\n",
              "\n",
              "          const docLinkHtml = 'Like what you see? Visit the ' +\n",
              "            '<a target=\"_blank\" href=https://colab.research.google.com/notebooks/data_table.ipynb>data table notebook</a>'\n",
              "            + ' to learn more about interactive tables.';\n",
              "          element.innerHTML = '';\n",
              "          dataTable['output_type'] = 'display_data';\n",
              "          await google.colab.output.renderOutput(dataTable, element);\n",
              "          const docLink = document.createElement('div');\n",
              "          docLink.innerHTML = docLinkHtml;\n",
              "          element.appendChild(docLink);\n",
              "        }\n",
              "      </script>\n",
              "    </div>\n",
              "  </div>\n",
              "  "
            ]
          },
          "metadata": {},
          "execution_count": 44
        }
      ]
    },
    {
      "cell_type": "code",
      "source": [
        "df[\"merge_text\"][0]"
      ],
      "metadata": {
        "id": "3zTgcMy0pCeS",
        "outputId": "0dde24af-6d4e-4a29-fd4c-8bc6be63d4e9",
        "colab": {
          "base_uri": "https://localhost:8080/",
          "height": 71
        }
      },
      "execution_count": 45,
      "outputs": [
        {
          "output_type": "execute_result",
          "data": {
            "text/plain": [
              "'Ngh s th giác ngi Malaysia Red Hong Yi khc ha chân dung sao võ thut Thành Long bng 64.000 chic a tre.Red Hong Yi d kin phát hành cun sách v hành trình s nghip ngh thut How to Paint Without a Brush,Chân dung Thành Long làm từ 64.000 chiếc đũa tre,Nghệ sĩ thị giác người Malaysia Red Hong Yi khắc họa chân dung sao võ thuật Thành Long bằng 64.000 chiếc đũa tre.'"
            ],
            "application/vnd.google.colaboratory.intrinsic+json": {
              "type": "string"
            }
          },
          "metadata": {},
          "execution_count": 45
        }
      ]
    },
    {
      "cell_type": "code",
      "source": [
        "!pip install deep-translator"
      ],
      "metadata": {
        "id": "-j2epS7kpbft",
        "outputId": "148f23fb-1ae8-44b6-8a32-90d2cbaea872",
        "colab": {
          "base_uri": "https://localhost:8080/"
        }
      },
      "execution_count": 46,
      "outputs": [
        {
          "output_type": "stream",
          "name": "stdout",
          "text": [
            "Looking in indexes: https://pypi.org/simple, https://us-python.pkg.dev/colab-wheels/public/simple/\n",
            "Requirement already satisfied: deep-translator in /usr/local/lib/python3.9/dist-packages (1.10.1)\n",
            "Requirement already satisfied: requests<3.0.0,>=2.23.0 in /usr/local/lib/python3.9/dist-packages (from deep-translator) (2.27.1)\n",
            "Requirement already satisfied: beautifulsoup4<5.0.0,>=4.9.1 in /usr/local/lib/python3.9/dist-packages (from deep-translator) (4.11.2)\n",
            "Requirement already satisfied: soupsieve>1.2 in /usr/local/lib/python3.9/dist-packages (from beautifulsoup4<5.0.0,>=4.9.1->deep-translator) (2.4)\n",
            "Requirement already satisfied: urllib3<1.27,>=1.21.1 in /usr/local/lib/python3.9/dist-packages (from requests<3.0.0,>=2.23.0->deep-translator) (1.26.15)\n",
            "Requirement already satisfied: charset-normalizer~=2.0.0 in /usr/local/lib/python3.9/dist-packages (from requests<3.0.0,>=2.23.0->deep-translator) (2.0.12)\n",
            "Requirement already satisfied: certifi>=2017.4.17 in /usr/local/lib/python3.9/dist-packages (from requests<3.0.0,>=2.23.0->deep-translator) (2022.12.7)\n",
            "Requirement already satisfied: idna<4,>=2.5 in /usr/local/lib/python3.9/dist-packages (from requests<3.0.0,>=2.23.0->deep-translator) (3.4)\n"
          ]
        }
      ]
    },
    {
      "cell_type": "code",
      "source": [
        "from deep_translator import GoogleTranslator\n",
        "from tqdm import tqdm\n",
        "\n",
        "GoogleTranslator(source='auto', target='english').translate(df[\"merge_text\"][11])\n",
        "\n",
        "\n",
        "for index , row in tqdm(df.iterrows()):\n",
        "  row[\"merge_text\"] = GoogleTranslator(source='auto', target='english').translate(df[\"merge_text\"][index])\n",
        "\n",
        "df[\"merge_text\"]"
      ],
      "metadata": {
        "id": "9DvwfeSip3sH",
        "outputId": "7b8e3ed2-72b3-4f41-ebe2-6251df7f1caf",
        "colab": {
          "base_uri": "https://localhost:8080/"
        }
      },
      "execution_count": 47,
      "outputs": [
        {
          "output_type": "stream",
          "name": "stderr",
          "text": [
            "433it [00:50,  8.50it/s]\n"
          ]
        },
        {
          "output_type": "execute_result",
          "data": {
            "text/plain": [
              "0      Malaysian artist Red Hong Yi has another portr...\n",
              "1      Wall Target Pad, Wall Target Training Pad Trai...\n",
              "2      by Guido Santevecchi It is above all the econo...\n",
              "3      Emmanuel Adebayor has brought down the curtain...\n",
              "4      The series of reveal trailers dedicated to the...\n",
              "                             ...                        \n",
              "428    It is a great honor to be asked, because it me...\n",
              "429    It is a great honor to be asked, because it me...\n",
              "430    In late September, Pedram Azarnush was taking ...\n",
              "431    In late September, Pedram Azarnush was taking ...\n",
              "432    June M. Williams\\r\\n\\n \\n\\n A compelling MMA V...\n",
              "Name: merge_text, Length: 433, dtype: object"
            ]
          },
          "metadata": {},
          "execution_count": 47
        }
      ]
    },
    {
      "cell_type": "code",
      "source": [
        "import matplotlib.pyplot as plt\n",
        "from wordcloud import WordCloud, STOPWORDS\n",
        "\n",
        "text = \" \".join(df[\"merge_text\"])\n",
        "\n",
        "wordcloud = WordCloud(width=800, height=800, background_color='white', max_words=50, stopwords=STOPWORDS, min_font_size=10).generate(text)\n",
        "                                                                                                  \n",
        "plt.figure(figsize=(8, 8))\n",
        "plt.imshow(wordcloud, interpolation='bilinear')\n",
        "plt.axis('off')\n",
        "plt.show()\n"
      ],
      "metadata": {
        "colab": {
          "base_uri": "https://localhost:8080/",
          "height": 466
        },
        "id": "GnFbJ2Auo5Cn",
        "outputId": "0aa47c2e-13bb-42aa-9fdb-f83f44ca9157"
      },
      "execution_count": 48,
      "outputs": [
        {
          "output_type": "display_data",
          "data": {
            "text/plain": [
              "<Figure size 576x576 with 1 Axes>"
            ],
            "image/png": "[encoded data removed]"
          },
          "metadata": {
            "needs_background": "light"
          }
        }
      ]
    },
    {
      "cell_type": "code",
      "source": [
        "df['publishedAt']"
      ],
      "metadata": {
        "id": "cw4faqGm6OEk",
        "colab": {
          "base_uri": "https://localhost:8080/"
        },
        "outputId": "0e167029-149e-4ebc-8b53-8094b7a1beac"
      },
      "execution_count": 49,
      "outputs": [
        {
          "output_type": "execute_result",
          "data": {
            "text/plain": [
              "0      2023-03-22T10:00:00Z\n",
              "1      2023-03-22T08:22:37Z\n",
              "2      2023-03-22T06:08:17Z\n",
              "3      2023-03-21T21:01:14Z\n",
              "4      2023-03-21T20:59:35Z\n",
              "               ...         \n",
              "428    2023-02-22T11:12:00Z\n",
              "429    2023-02-22T11:12:00Z\n",
              "430    2023-02-22T10:51:34Z\n",
              "431    2023-02-22T10:21:08Z\n",
              "432    2023-02-22T10:00:00Z\n",
              "Name: publishedAt, Length: 433, dtype: object"
            ]
          },
          "metadata": {},
          "execution_count": 49
        }
      ]
    },
    {
      "cell_type": "code",
      "source": [
        "# formater la colonne ‘publishedAt’\n",
        "\n",
        "df['publishedAt'] = pd.to_datetime(df['publishedAt'])\n",
        "df['publishedAt']\n"
      ],
      "metadata": {
        "colab": {
          "base_uri": "https://localhost:8080/"
        },
        "id": "jXb6fY5P9EUT",
        "outputId": "d72f84a1-7c3d-414d-a092-7bf2c6683bfd"
      },
      "execution_count": 55,
      "outputs": [
        {
          "output_type": "execute_result",
          "data": {
            "text/plain": [
              "0     2023-03-22 10:00:00+00:00\n",
              "1     2023-03-22 08:22:37+00:00\n",
              "2     2023-03-22 06:08:17+00:00\n",
              "3     2023-03-21 21:01:14+00:00\n",
              "4     2023-03-21 20:59:35+00:00\n",
              "                 ...           \n",
              "428   2023-02-22 11:12:00+00:00\n",
              "429   2023-02-22 11:12:00+00:00\n",
              "430   2023-02-22 10:51:34+00:00\n",
              "431   2023-02-22 10:21:08+00:00\n",
              "432   2023-02-22 10:00:00+00:00\n",
              "Name: publishedAt, Length: 433, dtype: datetime64[ns, UTC]"
            ]
          },
          "metadata": {},
          "execution_count": 55
        }
      ]
    },
    {
      "cell_type": "code",
      "source": [
        "df ['url']"
      ],
      "metadata": {
        "colab": {
          "base_uri": "https://localhost:8080/"
        },
        "id": "wazTH1Yr_dsX",
        "outputId": "87243896-ac8b-4e20-f8c8-027b84e3431b"
      },
      "execution_count": 62,
      "outputs": [
        {
          "output_type": "execute_result",
          "data": {
            "text/plain": [
              "0      https://vnexpress.net/chan-dung-thanh-long-lam...\n",
              "1      https://www.amazon.de/-/en/Boxing-Martial-Pill...\n",
              "2      https://www.corriere.it/esteri/23_marzo_22/put...\n",
              "3      https://www.dailymail.co.uk/sport/football/art...\n",
              "4      https://leganerd.com/2023/03/21/tekken-8-gamep...\n",
              "                             ...                        \n",
              "428    https://www.nieuwsblad.be/cnt/dmf20230222_9409...\n",
              "429          https://www.gva.be/cnt/dmf20230222_94096341\n",
              "430    https://www.rferl.org/a/germany-expels-iran-di...\n",
              "431    https://www.rferl.org/a/rferl-chief-jamie-fly-...\n",
              "432    https://www.bloodyelbow.com/2023/2/22/23609864...\n",
              "Name: url, Length: 433, dtype: object"
            ]
          },
          "metadata": {},
          "execution_count": 62
        }
      ]
    },
    {
      "cell_type": "code",
      "source": [
        "# Classer les URL par pays nom de domaine (.it, .be. .net,...et les dénombrer) ou choisir un pays ex: Belgique\n",
        "\n",
        "df['url'].value_counts()\n",
        "\n",
        "\n",
        "# Savoir quel pays à le plus écrit d'articles\n",
        "\n",
        "# Quel pays a écrit le plus d'articles positifs\n",
        "\n",
        "\n",
        "# Classer les URL par pays nom de domaine (.it, .be. .net,...et les dénombrer)\n",
        "\n",
        "\n"
      ],
      "metadata": {
        "colab": {
          "base_uri": "https://localhost:8080/"
        },
        "id": "nXhVcxS2_98B",
        "outputId": "f8566162-b5e5-4d82-cf5b-0f70c8d5b766"
      },
      "execution_count": 64,
      "outputs": [
        {
          "output_type": "execute_result",
          "data": {
            "text/plain": [
              "https://vnexpress.net/chan-dung-thanh-long-lam-tu-64-000-chiec-dua-tre-4584152.html                                                               1\n",
              "https://hollywoodlife.com/feature/shakira-kids-5040724/                                                                                           1\n",
              "https://www.washingtonpost.com/theater-dance/2023/03/01/king-lear-shakespeare-theatre/                                                            1\n",
              "https://english.khabarhub.com/2023/01/295128/                                                                                                     1\n",
              "https://www.comingsoon.net/?p=1269750                                                                                                             1\n",
              "                                                                                                                                                 ..\n",
              "https://www.ladbible.com/news/callum-woodhouse-snowman-binman-arrested-588983-20230310                                                            1\n",
              "https://www.kino.de/serie/luden-koenige-der-reeperbahn-2023/news/luden-die-wahre-geschichte-von-klaus-barkoswsky-aus-der-amazon-serie/            1\n",
              "https://muzyka.interia.pl/wiadomosci/news-igorilla-i-peepz-wydali-anomalie-premiera-plyty-i-kolejnego-,nId,6646936                                1\n",
              "https://www.gamespot.com/articles/new-tekken-8-trailer-shows-paul-phoenix-and-his-terrible-hairstyle-in-action/1100-6512246/                      1\n",
              "https://www.bloodyelbow.com/2023/2/22/23609864/guest-podcast-who-sucks-marquardt-dana-greedy-bread-gobblers-the-eugene-s-robinson-show-stomper    1\n",
              "Name: url, Length: 433, dtype: int64"
            ]
          },
          "metadata": {},
          "execution_count": 64
        }
      ]
    },
    {
      "cell_type": "code",
      "source": [
        "#Nombre d'articles par jour\n",
        "\n"
      ],
      "metadata": {
        "id": "134Qj1Su-vEj"
      },
      "execution_count": null,
      "outputs": []
    }
  ]
}